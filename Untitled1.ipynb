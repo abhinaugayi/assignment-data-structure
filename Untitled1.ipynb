{
  "nbformat": 4,
  "nbformat_minor": 0,
  "metadata": {
    "colab": {
      "provenance": []
    },
    "kernelspec": {
      "name": "python3",
      "display_name": "Python 3"
    },
    "language_info": {
      "name": "python"
    }
  },
  "cells": [
    {
      "cell_type": "markdown",
      "source": [
        "# ASSIGNMENT - Data Structure"
      ],
      "metadata": {
        "id": "hyXNnA-wStog"
      }
    },
    {
      "cell_type": "markdown",
      "source": [
        "1. What are data structures, and why are they important ?\n",
        "\n",
        "ANSWER: Data structure is specialized format of storing,processing , analyzing and implumenting a data . They are important because we have different types of data some are mutable and immutable according to their requirements we use them ."
      ],
      "metadata": {
        "id": "BH7Fx48WS8Iw"
      }
    },
    {
      "cell_type": "markdown",
      "source": [
        "2.  Explain the difference between mutable and immutable data types with examples ?\n",
        "\n",
        "Answer: The difference between mutable and immutable data types is that when a mutable data types get executed it's value can be changed  while in immutable it's value can't be changed or replaced"
      ],
      "metadata": {
        "id": "BWL88uEQTuaf"
      }
    },
    {
      "cell_type": "markdown",
      "source": [
        "3. What are the main differences between lists and tuples in Python ?\n",
        "\n",
        "Answer : the difference between list and tuples are:-\n",
        "list:\n",
        "\n",
        "*   list dosen't have a fix length\n",
        "*   mutable : once executed then it's value can be changed\n",
        "*   list takes more memory incomparison to tuples and take more time to execute\n",
        "\n",
        "tuples:\n",
        "\n",
        "*    immutable : once data exected then it can't be changed\n",
        "*    less time consuming incomparison to list\n",
        "*    tuples have fixed length\n",
        "\n",
        "\n",
        "\n",
        "\n",
        "\n",
        "\n",
        "\n",
        "\n",
        "\n",
        "\n",
        "\n",
        "\n",
        "\n"
      ],
      "metadata": {
        "id": "OmibY4CRUQ-L"
      }
    },
    {
      "cell_type": "markdown",
      "source": [
        "4 . Describe how dictionaries store data ?\n",
        "\n",
        "Answer : Dictionaries store data in key and value format that means a key is created with it's value . for example : d = {\"name\":\"abhi\"} name is key and abhi is it's value\n"
      ],
      "metadata": {
        "id": "-EHhaFWmVjFZ"
      }
    },
    {
      "cell_type": "markdown",
      "source": [
        "5. Why might you use a set instead of a list in Python ?\n",
        "\n",
        "Answer : We use set instead of list of python :      \n",
        "\n",
        " in set repetition of elements didn;t occur , if we get same input on the list then set eliminate same input and show only . so repetition will not occur.\n",
        "\n",
        " set have property like union , difference  that is important for us if we need to perform some operation in it or wanna filter data.\n",
        "\n",
        "\n",
        "  \n",
        "\n"
      ],
      "metadata": {
        "id": "Olp48ahnV_pC"
      }
    },
    {
      "cell_type": "markdown",
      "source": [
        "6 . What is a string in Python, and how is it different from a list ?\n",
        "\n",
        "Answer :  string in python is different from a list :    \n",
        "\n",
        "string is immutable.\n",
        "\n",
        "Strings can be indexed and sliced to access individual characters or substrings, while lists can be accessed using indices to retrieve or modify elements.\n",
        "\n",
        " String methods like upper(), lower(), and replace() are tailored for text processing, while list methods like append(), remove(), and sort(), and copy() are specific to working with collections of items."
      ],
      "metadata": {
        "id": "U1VlHObSW3Wk"
      }
    },
    {
      "cell_type": "markdown",
      "source": [
        "7. How do tuples ensure data integrity in Python ?\n",
        "\n",
        " Answer  :tuples ensures data integrity due to it's immutable feature that means once data executed can't be changed that makes data more secure and unchangable so, if anyone try to make changes in that data that is not possible\n"
      ],
      "metadata": {
        "id": "dDiR3Om2X0kd"
      }
    },
    {
      "cell_type": "markdown",
      "source": [
        "8.What is a hash table, and how does it relate to dictionaries in Python ?\n",
        "\n",
        "Answer :A hash table is a data structure that store data in key-value pair where each key have it's unique value and it is related to dictionaries because in dictonaries data are stored in key- value pair that means a unique value is assigned to each key also when you add a key- value to a dictionary python applies a hash function to the key to generate a hash value . this hash value determines the index in the hash table where the value will be stored."
      ],
      "metadata": {
        "id": "dq2L9XxVYctb"
      }
    },
    {
      "cell_type": "markdown",
      "source": [
        "9.Can lists contain different data types in Python\n",
        "\n",
        "Answer : yes we can store different data types in list . list is heterogenous so it can store any data type or data structure in python"
      ],
      "metadata": {
        "id": "VvD1tryqZgXn"
      }
    },
    {
      "cell_type": "markdown",
      "source": [
        "10. Explain why strings are immutable in Python ?\n",
        "\n",
        "Answer :- Strings are immutable because one created then it's data can't be changed but can be replaced in some situation"
      ],
      "metadata": {
        "id": "Uv57Gk3lNduJ"
      }
    },
    {
      "cell_type": "markdown",
      "source": [
        "11. What advantages do dictionaries offer over lists for certain tasks ?\n",
        "\n",
        "Answes : Advantages dictionaries offer over list for certain task are :         \n",
        "\n",
        "dictonaries store value in key format so if we wanna access any value we can search it by it's key.\n",
        "\n",
        "dictonaries doesn't allow duplicacy while in list duplicacy is common.\n",
        "\n",
        "store unique value for each key"
      ],
      "metadata": {
        "id": "YrswpRF4N6Io"
      }
    },
    {
      "cell_type": "markdown",
      "source": [
        "12.Describe a scenario where using a tuple would be preferable over a list ?\n",
        "\n",
        "Answer : for storing confidential data like employee records and their pan card and their salary account tuple are more preferable over a list so that we can't change data after execution or once deployed"
      ],
      "metadata": {
        "id": "g_N3RjP8O634"
      }
    },
    {
      "cell_type": "markdown",
      "source": [
        "13.How do sets handle duplicate values in Python ?\n",
        "\n",
        "Answer : Set handle duplicate values by eliminating them in result and showinh only one value . for example : set ={1,2,3,4,5,5,6,6,6,7} in result the sets will not show repeating values output will be like that {1,2,3,4,5,6,7}."
      ],
      "metadata": {
        "id": "Zgfb1TJ3PSfh"
      }
    },
    {
      "cell_type": "markdown",
      "source": [
        "14.How does the “in” keyword work differently for lists and dictionaries ?\n",
        "\n",
        "Answers :- \"in\" keyword work differently for lists and dictionaries in list it checks the value which written after in present in it or not and show boolean value like true and false but in case of dictanories it checks the key present in dictionary or not ."
      ],
      "metadata": {
        "id": "mJQgPAAjPvRx"
      }
    },
    {
      "cell_type": "markdown",
      "source": [
        "15.Can you modify the elements of a tuple? Explain why or why not ?\n",
        "\n",
        "Answers:  You cannot modify the elements of a tuple in Python. This is because tuples are immutable, meaning once a tuple is created, its contents cannot be changed, added to, or removed."
      ],
      "metadata": {
        "id": "Z66BKBfXQldN"
      }
    },
    {
      "cell_type": "markdown",
      "source": [
        "16.What is a nested dictionary, and give an example of its use case ?\n",
        "\n",
        "Answer : nested dictionary means dictionary inside a dictionary .It is used in cases where we wanna store some more data from another dictonary . By using nested dictionaries, you can represent complex data relationships in a compact and accessible way .\n",
        "\n",
        "EXAMPLE : managing employee data . Each department dictionaries will be stored in whole company employee data so that we can use it when needed"
      ],
      "metadata": {
        "id": "f2JFPO0BQyWV"
      }
    },
    {
      "cell_type": "markdown",
      "source": [
        "17.Describe the time complexity of accessing elements in a dictionary ?\n",
        "\n",
        "Answer :In Python, dictionaries are implemented using a hash table. This implementation provides very efficient access to elements, and the time complexity of accessing elements in a dictionary depends on several factors, including the operation being performed"
      ],
      "metadata": {
        "id": "j2wAXIiLRlzN"
      }
    },
    {
      "cell_type": "markdown",
      "source": [
        "18 .In what situations are lists preferred over dictionaries ?\n",
        "\n",
        "Answers : The situations lists are preferred over dictonaries :     \n",
        "when we wanna store data sequentially and ordered .\n",
        "\n",
        "when we have to store simple data .\n",
        "\n",
        "when we don't need keys to store it's value .\n",
        "\n",
        "we can store many types of data types in list"
      ],
      "metadata": {
        "id": "on3JDsC_R_ds"
      }
    },
    {
      "cell_type": "markdown",
      "source": [
        "19 . Why are dictionaries considered unordered, and how does that affect data retrieval ?\n",
        "\n",
        "Answers : dictonaries considered unordered because dictionary store data in key and value format there is no index of data . It effects data retrieval in many ways like we can delete data efficiently by providing it's key . there is no index assigned to any value and much more"
      ],
      "metadata": {
        "id": "xC_lYhnHSr8O"
      }
    },
    {
      "cell_type": "markdown",
      "source": [
        "20.Explain the difference between a list and a dictionary in terms of data retrieval ?\n",
        "\n",
        " Answers : The difference between a list and a dictionary in terms of data retrieval lies in how the data is structured, how the elements are accessed, and the time complexity of retrieving elements.\n",
        "\n",
        " data is structured\n",
        "\n",
        " list stores data in ordered format while dictionary store it's data in key value format having each key it's unique value.\n",
        "\n",
        " you can access any element using it's element while to excess value in a dictionary you have to use a key .\n",
        "\n",
        " the elements are accessed\n",
        "\n",
        " in list elemnts are accessed by it's index and in dictionary we can access it by key ."
      ],
      "metadata": {
        "id": "bGVZ9sulTeFt"
      }
    },
    {
      "cell_type": "markdown",
      "source": [
        "# PRACTICAL QUESTION AND ANSWER"
      ],
      "metadata": {
        "id": "b0diAQD6UhKo"
      }
    },
    {
      "cell_type": "markdown",
      "source": [
        "Write a code to create a string with your name and print it ?"
      ],
      "metadata": {
        "id": "gOt1TPp3UuWA"
      }
    },
    {
      "cell_type": "code",
      "source": [
        "STRING1=(\"ABHISHEK\")\n",
        "print(STRING1)\n",
        "type(STRING1)"
      ],
      "metadata": {
        "id": "xcKHZhVtS7QG",
        "colab": {
          "base_uri": "https://localhost:8080/"
        },
        "outputId": "8a0fad58-52d6-4809-b62e-1632e5508a7d"
      },
      "execution_count": null,
      "outputs": [
        {
          "output_type": "stream",
          "name": "stdout",
          "text": [
            "ABHISHEK\n"
          ]
        },
        {
          "output_type": "execute_result",
          "data": {
            "text/plain": [
              "str"
            ]
          },
          "metadata": {},
          "execution_count": 2
        }
      ]
    },
    {
      "cell_type": "markdown",
      "source": [
        "Write a code to find the length of the string \"Hello World ?"
      ],
      "metadata": {
        "id": "9tpehRIbU-iG"
      }
    },
    {
      "cell_type": "code",
      "source": [
        "str1 = (\"Hello World\")\n",
        "print(len(str1))"
      ],
      "metadata": {
        "colab": {
          "base_uri": "https://localhost:8080/"
        },
        "id": "ZgBPfAR5UtCB",
        "outputId": "33cd2aef-9193-43e0-ceee-f087435c8113"
      },
      "execution_count": null,
      "outputs": [
        {
          "output_type": "stream",
          "name": "stdout",
          "text": [
            "11\n"
          ]
        }
      ]
    },
    {
      "cell_type": "markdown",
      "source": [
        "Write a code to slice the first 3 characters from the string \"Python Programming ?"
      ],
      "metadata": {
        "id": "RpVgqaOcVH0K"
      }
    },
    {
      "cell_type": "code",
      "source": [
        "str2=(\"Python programming\")\n",
        "print(str2[0:3])"
      ],
      "metadata": {
        "colab": {
          "base_uri": "https://localhost:8080/"
        },
        "id": "HJCpqAVXUsjs",
        "outputId": "e27fcef2-1242-405f-f6dc-a5247713bf5f"
      },
      "execution_count": null,
      "outputs": [
        {
          "output_type": "stream",
          "name": "stdout",
          "text": [
            "Pyt\n"
          ]
        }
      ]
    },
    {
      "cell_type": "markdown",
      "source": [
        "Write a code to convert the string \"hello\" to uppercase ?"
      ],
      "metadata": {
        "id": "FMVyIoYrVcHm"
      }
    },
    {
      "cell_type": "code",
      "source": [
        "str2=(\"hello\")\n",
        "str2.upper()"
      ],
      "metadata": {
        "colab": {
          "base_uri": "https://localhost:8080/",
          "height": 36
        },
        "id": "XxZ8hPIYVZAR",
        "outputId": "d585a598-9099-4dcd-f1b8-e4028cbc515d"
      },
      "execution_count": null,
      "outputs": [
        {
          "output_type": "execute_result",
          "data": {
            "text/plain": [
              "'HELLO'"
            ],
            "application/vnd.google.colaboratory.intrinsic+json": {
              "type": "string"
            }
          },
          "metadata": {},
          "execution_count": 7
        }
      ]
    },
    {
      "cell_type": "markdown",
      "source": [
        "Write a code to replace the word \"apple\" with \"orange\" in the string \"I like apple\"?"
      ],
      "metadata": {
        "id": "Vle_fy6UVudE"
      }
    },
    {
      "cell_type": "code",
      "source": [
        "str3=(\"I like apple\")\n",
        "str3.replace(\"apple\",\"orange\")"
      ],
      "metadata": {
        "colab": {
          "base_uri": "https://localhost:8080/",
          "height": 36
        },
        "id": "CAlSjDGuVmgX",
        "outputId": "72be1fad-a884-459b-c765-cf0ebea8b14f"
      },
      "execution_count": null,
      "outputs": [
        {
          "output_type": "execute_result",
          "data": {
            "text/plain": [
              "'I like orange'"
            ],
            "application/vnd.google.colaboratory.intrinsic+json": {
              "type": "string"
            }
          },
          "metadata": {},
          "execution_count": 8
        }
      ]
    },
    {
      "cell_type": "markdown",
      "source": [
        "Write a code to create a list with numbers 1 to 5 and print it ?"
      ],
      "metadata": {
        "id": "_cejeu8TV8Ve"
      }
    },
    {
      "cell_type": "code",
      "source": [
        "a = []\n",
        "for i in range(1,6):\n",
        "    a.append(i)\n",
        "print(a)"
      ],
      "metadata": {
        "colab": {
          "base_uri": "https://localhost:8080/"
        },
        "id": "ovKtUd_NV7Sp",
        "outputId": "643c0dd0-0032-4db1-a782-276e1173c5f4"
      },
      "execution_count": null,
      "outputs": [
        {
          "output_type": "stream",
          "name": "stdout",
          "text": [
            "[1, 2, 3, 4, 5]\n"
          ]
        }
      ]
    },
    {
      "cell_type": "markdown",
      "source": [
        "Write a code to append the number 10 to the list [1, 2, 3, 4] ?"
      ],
      "metadata": {
        "id": "oba1veaSWW3-"
      }
    },
    {
      "cell_type": "code",
      "source": [
        "list1 = [1,2,3,4]\n",
        "list1.append(10)\n",
        "print(list1)"
      ],
      "metadata": {
        "colab": {
          "base_uri": "https://localhost:8080/"
        },
        "id": "pL3TfnQ7WGy5",
        "outputId": "a2a2e391-0bee-4844-badb-8e29681858e6"
      },
      "execution_count": null,
      "outputs": [
        {
          "output_type": "stream",
          "name": "stdout",
          "text": [
            "[1, 2, 3, 4, 10]\n"
          ]
        }
      ]
    },
    {
      "cell_type": "markdown",
      "source": [
        "Write a code to remove the number 3 from the list [1, 2, 3, 4, 5] ?"
      ],
      "metadata": {
        "id": "TSk11-WZWoS5"
      }
    },
    {
      "cell_type": "code",
      "source": [
        "list2=[1,2,3,4,5]\n",
        "list2.remove(3)\n",
        "print(list2)\n",
        "\n",
        "#alternatively\n",
        "list2=[1,2,3,4,5]\n",
        "list2.pop(2) # here we used it's index to remove it\n",
        "print(list2)"
      ],
      "metadata": {
        "colab": {
          "base_uri": "https://localhost:8080/"
        },
        "id": "hoADZEo7Wnf8",
        "outputId": "aa6ba9e9-acf8-48c8-b856-aba5cc020e96"
      },
      "execution_count": null,
      "outputs": [
        {
          "output_type": "stream",
          "name": "stdout",
          "text": [
            "[1, 2, 4, 5]\n",
            "[1, 2, 4, 5]\n"
          ]
        }
      ]
    },
    {
      "cell_type": "markdown",
      "source": [
        "Write a code to access the second element in the list ['a', 'b', 'c', 'd'] ?"
      ],
      "metadata": {
        "id": "FeFbBZpnW_vK"
      }
    },
    {
      "cell_type": "code",
      "source": [
        "list3=['a','b','c','d']\n",
        "list3[1]\n"
      ],
      "metadata": {
        "colab": {
          "base_uri": "https://localhost:8080/",
          "height": 36
        },
        "id": "uLFIQ7s8W2ts",
        "outputId": "391c7e21-d3a1-4051-87cd-06dc8fcf4660"
      },
      "execution_count": null,
      "outputs": [
        {
          "output_type": "execute_result",
          "data": {
            "text/plain": [
              "'b'"
            ],
            "application/vnd.google.colaboratory.intrinsic+json": {
              "type": "string"
            }
          },
          "metadata": {},
          "execution_count": 18
        }
      ]
    },
    {
      "cell_type": "markdown",
      "source": [
        "Write a code to reverse the list [10, 20, 30, 40, 50] ?"
      ],
      "metadata": {
        "id": "z3wV83FHXQhN"
      }
    },
    {
      "cell_type": "code",
      "source": [
        "list4 = [10,20,30,40,50]\n",
        "list4[::-1]"
      ],
      "metadata": {
        "colab": {
          "base_uri": "https://localhost:8080/"
        },
        "id": "dwLno8D_XOvG",
        "outputId": "113af17f-cd75-4ba3-f43d-37293c3fbf47"
      },
      "execution_count": null,
      "outputs": [
        {
          "output_type": "execute_result",
          "data": {
            "text/plain": [
              "[50, 40, 30, 20, 10]"
            ]
          },
          "metadata": {},
          "execution_count": 19
        }
      ]
    },
    {
      "cell_type": "markdown",
      "source": [
        "Write a code to create a tuple with the elements 10, 20, 30 and print it ?"
      ],
      "metadata": {
        "id": "kBjPBYDgXdnb"
      }
    },
    {
      "cell_type": "code",
      "source": [
        "tuple= ()\n",
        "for i in range(10,31,10):\n",
        "    tuple = tuple + (i,)\n",
        "print(tuple)\n"
      ],
      "metadata": {
        "colab": {
          "base_uri": "https://localhost:8080/"
        },
        "id": "rKLNq7w1XcQT",
        "outputId": "33cd5d30-ddb5-40d5-85a5-bdae6692f8f4"
      },
      "execution_count": null,
      "outputs": [
        {
          "output_type": "stream",
          "name": "stdout",
          "text": [
            "(10, 20, 30)\n"
          ]
        }
      ]
    },
    {
      "cell_type": "markdown",
      "source": [
        "Write a code to access the first element of the tuple ('apple', 'banana', 'cherry') ?"
      ],
      "metadata": {
        "id": "7_ZZ6FFQYRE0"
      }
    },
    {
      "cell_type": "code",
      "source": [
        "tuple2=('apple','banana','cherry')\n",
        "tuple2[0]"
      ],
      "metadata": {
        "colab": {
          "base_uri": "https://localhost:8080/",
          "height": 36
        },
        "id": "rLn7_0WeXzQN",
        "outputId": "d1c0f2ce-f9b3-4ea3-e98d-387f8870c50a"
      },
      "execution_count": null,
      "outputs": [
        {
          "output_type": "execute_result",
          "data": {
            "text/plain": [
              "'apple'"
            ],
            "application/vnd.google.colaboratory.intrinsic+json": {
              "type": "string"
            }
          },
          "metadata": {},
          "execution_count": 26
        }
      ]
    },
    {
      "cell_type": "markdown",
      "source": [
        "Write a code to count how many times the number 2 appears in the tuple (1, 2, 3, 2, 4, 2) ?"
      ],
      "metadata": {
        "id": "sMnPwnxCYpy5"
      }
    },
    {
      "cell_type": "code",
      "source": [
        "tuple=(1,2,3,2,4,2)\n",
        "b =tuple.count(2)\n",
        "print(f'the number of times 2 appears in tuple { b }')"
      ],
      "metadata": {
        "colab": {
          "base_uri": "https://localhost:8080/"
        },
        "id": "U5CEdhe7YgWH",
        "outputId": "a1a50a1a-9b8c-406a-ad72-3199afaebb11"
      },
      "execution_count": null,
      "outputs": [
        {
          "output_type": "stream",
          "name": "stdout",
          "text": [
            "the number of times 2 appears in tuple 3\n"
          ]
        }
      ]
    },
    {
      "cell_type": "markdown",
      "source": [
        "Write a code to find the index of the element \"cat\" in the tuple ('dog', 'cat', 'rabbit') ?"
      ],
      "metadata": {
        "id": "mwjXakXSZNEY"
      }
    },
    {
      "cell_type": "code",
      "source": [
        "tuple=('dog','cat','rabbit')\n",
        "tuple.index('cat')"
      ],
      "metadata": {
        "colab": {
          "base_uri": "https://localhost:8080/"
        },
        "id": "fdpK1zYBYx5v",
        "outputId": "724d6690-3787-4221-91ca-679c89d435b9"
      },
      "execution_count": null,
      "outputs": [
        {
          "output_type": "execute_result",
          "data": {
            "text/plain": [
              "1"
            ]
          },
          "metadata": {},
          "execution_count": 35
        }
      ]
    },
    {
      "cell_type": "markdown",
      "source": [
        "Write a code to check if the element \"banana\" is in the tuple ('apple', 'orange', 'banana'). ?"
      ],
      "metadata": {
        "id": "-lLfKskHZiK4"
      }
    },
    {
      "cell_type": "code",
      "source": [
        "tuple = ('apple','orange','banana')\n",
        "\"banana\" in tuple"
      ],
      "metadata": {
        "colab": {
          "base_uri": "https://localhost:8080/"
        },
        "id": "HBbbOuTfZeJG",
        "outputId": "51b1bc48-0ce5-40c6-d194-57266da9059b"
      },
      "execution_count": null,
      "outputs": [
        {
          "output_type": "execute_result",
          "data": {
            "text/plain": [
              "True"
            ]
          },
          "metadata": {},
          "execution_count": 40
        }
      ]
    },
    {
      "cell_type": "markdown",
      "source": [
        " Write a code to create a set with the elements 1, 2, 3, 4, 5 and print it ?"
      ],
      "metadata": {
        "id": "xA_stpJGZ_6-"
      }
    },
    {
      "cell_type": "code",
      "source": [
        "del set\n",
        "set1 =set()\n",
        "for i in range (1,6):\n",
        "  set1.add(i)\n",
        "print(set1)\n"
      ],
      "metadata": {
        "colab": {
          "base_uri": "https://localhost:8080/"
        },
        "id": "clbQy47AZutt",
        "outputId": "abdca022-82d0-4ca8-ab5e-28b2144f6dfe"
      },
      "execution_count": null,
      "outputs": [
        {
          "output_type": "stream",
          "name": "stdout",
          "text": [
            "{1, 2, 3, 4, 5}\n"
          ]
        }
      ]
    },
    {
      "cell_type": "markdown",
      "source": [
        " Write a code to add the element 6 to the set {1, 2, 3, 4 } ?"
      ],
      "metadata": {
        "id": "qKGRXVKGbdmZ"
      }
    },
    {
      "cell_type": "code",
      "source": [
        "set ={1,2,3,4}\n",
        "set.add(6)\n",
        "print(set)"
      ],
      "metadata": {
        "colab": {
          "base_uri": "https://localhost:8080/"
        },
        "id": "wXDNs-jHaPcN",
        "outputId": "2389b3f6-93cb-4b19-c822-7192610d70e8"
      },
      "execution_count": null,
      "outputs": [
        {
          "output_type": "stream",
          "name": "stdout",
          "text": [
            "{1, 2, 3, 4, 6}\n"
          ]
        }
      ]
    },
    {
      "cell_type": "markdown",
      "source": [
        " Write a code to create a tuple with the elements 10, 20, 30 and print it ?"
      ],
      "metadata": {
        "id": "VhldUlNybvvA"
      }
    },
    {
      "cell_type": "code",
      "source": [
        "tuple=()\n",
        "for i in range(10,31,10):\n",
        "  tuple =tuple+(i,)\n",
        "print(tuple)"
      ],
      "metadata": {
        "colab": {
          "base_uri": "https://localhost:8080/"
        },
        "id": "RjPNr99Nbr2B",
        "outputId": "b9676336-fd50-4c0d-cafc-bc71d986b37b"
      },
      "execution_count": null,
      "outputs": [
        {
          "output_type": "stream",
          "name": "stdout",
          "text": [
            "(10, 20, 30)\n"
          ]
        }
      ]
    },
    {
      "cell_type": "markdown",
      "source": [
        "Write a code to access the first element of the tuple ('apple', 'banana', 'cherry') ?"
      ],
      "metadata": {
        "id": "sneTLiT_cLY9"
      }
    },
    {
      "cell_type": "code",
      "source": [
        "tuple =('apple','banana','cherry')\n",
        "tuple[0]"
      ],
      "metadata": {
        "colab": {
          "base_uri": "https://localhost:8080/",
          "height": 36
        },
        "id": "teoeb6EYcEuX",
        "outputId": "41e9dad4-3ff5-4ea1-d6c7-a036a7cd983f"
      },
      "execution_count": null,
      "outputs": [
        {
          "output_type": "execute_result",
          "data": {
            "text/plain": [
              "'apple'"
            ],
            "application/vnd.google.colaboratory.intrinsic+json": {
              "type": "string"
            }
          },
          "metadata": {},
          "execution_count": 63
        }
      ]
    },
    {
      "cell_type": "code",
      "source": [],
      "metadata": {
        "id": "EQv7T5M1cVoQ"
      },
      "execution_count": null,
      "outputs": []
    }
  ]
}